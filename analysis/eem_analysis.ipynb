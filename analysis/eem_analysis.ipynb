{
 "cells": [
  {
   "cell_type": "code",
   "execution_count": null,
   "metadata": {},
   "outputs": [],
   "source": [
    "import numpy as np\n",
    "import pandas as pd\n",
    "from  matplotlib import pyplot as plt\n",
    "import os \n",
    "from pathlib import Path\n",
    "import re\n",
    "import PIL\n",
    "import cv2\n",
    "import seaborn as sns \n",
    "import copy\n",
    "import importlib\n",
    "\n",
    "import spectral_util\n",
    "importlib.reload(spectral_util)\n",
    "from spectral_util import *\n",
    "\n",
    "import fluorescence_util\n",
    "importlib.reload(fluorescence_util)\n",
    "from fluorescence_util import *\n"
   ]
  },
  {
   "cell_type": "code",
   "execution_count": null,
   "metadata": {},
   "outputs": [],
   "source": [
    "# 'board.xlsx'\n",
    "# 'board_noFlux.xlsx'\n",
    "# 'flux_20240925_184835.xlsx'\n",
    "# 'flux-onBoard.xlsx'\n",
    "# 'lead_noFlux.xlsx'\n",
    "\n",
    "srcbase = Path(\"./data/EEM_F-7000_2025-04-11/\")\n",
    "dstdir = Path(\"./dst/eem/filter\")\n",
    "\n",
    "srcdata = [\n",
    "    {\n",
    "        \"path\": fpath,\n",
    "        \"sample\": fpath.stem.split(\"_\")[0],  # 'ABS_20250411' → 'ABS'\n",
    "        \"label\": None\n",
    "    }\n",
    "    for fpath in srcbase.glob(\"*.xlsx\")\n",
    "]\n",
    "srcdata"
   ]
  },
  {
   "cell_type": "code",
   "execution_count": null,
   "metadata": {},
   "outputs": [],
   "source": [
    "for data in srcdata:\n",
    "    eem = fluorescence_util.EEMF7000(data.get('path'))\n",
    "    print(eem)\n",
    "\n",
    "    plt.figure()\n",
    "    eem.plot_contour(level=100, show_sample_name=True)"
   ]
  },
  {
   "cell_type": "code",
   "execution_count": null,
   "metadata": {},
   "outputs": [],
   "source": [
    "em_bands = eem.em_bands\n",
    "ex_bands = eem.ex_bands"
   ]
  },
  {
   "cell_type": "markdown",
   "metadata": {},
   "source": [
    "EEMの1次反射・n次散乱光除去のためのスニペット (クラスメソッドに実装済み)"
   ]
  },
  {
   "cell_type": "code",
   "execution_count": null,
   "metadata": {},
   "outputs": [],
   "source": [
    "verbose = True\n",
    "_df = copy.deepcopy(eem.eem_df)\n",
    "\n",
    "def find_nearest(array: np.array, value):\n",
    "    idx = (np.abs(array - value)).argmin()\n",
    "    # val = array[idx]\n",
    "    return int(idx)\n",
    "\n",
    "def is_out_of_range(value, array: np.array = eem.ex_bands, step=eem.ex_band_step, verbose=False):\n",
    "    if value+(step/2) < array.min():\n",
    "        if verbose: print(f\"{array.max()} < {value-(step/2)}\") \n",
    "        return True\n",
    "    elif array.max() < value-(step/2):\n",
    "        if verbose: print(f\"{array.max()} < {value-(step/2)}\")\n",
    "        return True\n",
    "    \n",
    "    return False\n",
    "\n",
    "def _calc_shift_band(wl_src, degree=1, shift:int=0, band_step=eem.em_band_step):\n",
    "    ''' eemのemissionの波長からexcitationの1次反射とn次散乱光の波長を計算する\n",
    "    FIXME 後でGPTに埋めさせる\n",
    "    :param wl_src: \n",
    "    :param degree:\n",
    "    :param shift:\n",
    "    :param band_step:\n",
    "\n",
    "    :returns: \n",
    "    '''\n",
    "    shifted_bands = wl_src * degree+(shift *band_step)\n",
    "\n",
    "    return shifted_bands\n",
    "\n",
    "def _elliminate_eem(eem_df, em, step, degree=1, bands_ex:np.array=eem.ex_bands, *, inplace=False, verbose=False):\n",
    "    '''EEMにおける1次反射と2次散乱光を `np.nan` で埋めて消去する。\n",
    "    FIXME 後でGPTに埋めさせる\n",
    "    '''\n",
    "    if not inplace:\n",
    "        eem_df = eem_df.copy()\n",
    "\n",
    "    wl_elim_ex = _calc_shift_band(em, shift= step, degree=degree)\n",
    "    out_of_range = is_out_of_range(wl_elim_ex, verbose=verbose) \n",
    "    if verbose: \n",
    "        print(f\"base={em} nm:/t({em}, {wl_elim_ex}), out-of-range={out_of_range}\")\n",
    "    idx_elim_ex = find_nearest(bands_ex, wl_elim_ex) # 最も近いexの波長を求める\n",
    "    wl_elim_ex = bands_ex[idx_elim_ex]\n",
    "    \n",
    "    # 最近傍だと範囲を大きく超えていても最大値に張り付く可能性があるので \n",
    "    # (600nmの2次光の1200nmでも800nmがexの最大値なので800nmが削除対象に含まれている可能性がある) \n",
    "    # 範囲外の波長を除外する\n",
    "\n",
    "    if em in eem.em_bands and wl_elim_ex in eem.ex_bands and not out_of_range:\n",
    "        eem_df.loc[em, wl_elim_ex] = np.nan\n",
    "\n",
    "    return eem_df\n",
    "\n",
    "def remove_self_reflection_and_scattering_from_eem(eem_df, em_bands=eem.em_bands, margin_steps=3, *, inplace=False, verbose=False):\n",
    "    if not inplace:\n",
    "        eem_df = eem_df.copy()\n",
    "\n",
    "    bands_targets = em_bands\n",
    "    for target_em in bands_targets:\n",
    "\n",
    "        for step in range(margin_steps):\n",
    "            # 1次反射\n",
    "            eem_df = _elliminate_eem(eem_df, em=target_em, step = -step, degree=1, inplace=inplace, verbose=verbose)\n",
    "            eem_df = _elliminate_eem(eem_df, em=target_em, step = +step, degree=1, inplace=inplace, verbose=verbose)\n",
    "            # 2次散乱\n",
    "            eem_df = _elliminate_eem(eem_df, em=target_em, step = -step, degree=2, inplace=inplace, verbose=verbose)\n",
    "            eem_df = _elliminate_eem(eem_df, em=target_em, step = +step, degree=2, inplace=inplace, verbose=verbose)\n",
    "            # 3次散乱\n",
    "            eem_df = _elliminate_eem(eem_df, em=target_em, step = -step, degree=3, inplace=inplace, verbose=verbose)\n",
    "            eem_df = _elliminate_eem(eem_df, em=target_em, step = +step, degree=3, inplace=inplace, verbose=verbose)\n",
    "\n",
    "    return eem_df\n"
   ]
  },
  {
   "cell_type": "code",
   "execution_count": null,
   "metadata": {},
   "outputs": [],
   "source": [
    "remove_self_reflection_and_scattering_from_eem(eem_df=_df, margin_steps=6, inplace=True)\n",
    "plt.imshow(_df[eem.ex_bands].values)\n",
    "# _df.values\n",
    "_df[eem.ex_bands]"
   ]
  },
  {
   "cell_type": "markdown",
   "metadata": {},
   "source": [
    "1次反射・n次散乱の除去 (クラスメソッドを使用)"
   ]
  },
  {
   "cell_type": "code",
   "execution_count": null,
   "metadata": {},
   "outputs": [],
   "source": [
    "eem.remove_self_reflection_and_scattering_from_eem(margin_steps=6, inplace=True, )\n",
    "eem.plot_heatmap()\n",
    "plt.title(eem.sample)"
   ]
  },
  {
   "cell_type": "code",
   "execution_count": null,
   "metadata": {},
   "outputs": [],
   "source": [
    "for data in srcdata:\n",
    "    eem = fluorescence_util.EEMF7000(data.get('path'))\n",
    "    print(eem)\n",
    "\n",
    "    plt.figure()\n",
    "    # eem.plot_contour(level=100, show_sample_name=True)\n",
    "\n",
    "    eem.remove_self_reflection_and_scattering_from_eem(margin_steps=6, inplace=True, )\n",
    "    eem.plot_heatmap()\n",
    "    plt.title(eem.sample)"
   ]
  },
  {
   "cell_type": "code",
   "execution_count": null,
   "metadata": {},
   "outputs": [],
   "source": []
  }
 ],
 "metadata": {
  "kernelspec": {
   "display_name": ".venv",
   "language": "python",
   "name": "python3"
  },
  "language_info": {
   "codemirror_mode": {
    "name": "ipython",
    "version": 3
   },
   "file_extension": ".py",
   "mimetype": "text/x-python",
   "name": "python",
   "nbconvert_exporter": "python",
   "pygments_lexer": "ipython3",
   "version": "3.12.3"
  }
 },
 "nbformat": 4,
 "nbformat_minor": 2
}
