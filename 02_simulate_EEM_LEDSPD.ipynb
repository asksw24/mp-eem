{
 "cells": [
  {
   "cell_type": "code",
   "execution_count": null,
   "metadata": {},
   "outputs": [],
   "source": [
    "import numpy as np\n",
    "import pandas as pd\n",
    "from  matplotlib import pyplot as plt\n",
    "import os \n",
    "from pathlib import Path\n",
    "import re\n",
    "import PIL\n",
    "import cv2\n",
    "import seaborn as sns \n",
    "import copy\n",
    "import importlib\n",
    "\n",
    "import spectral_util\n",
    "importlib.reload(spectral_util)\n",
    "from spectral_util import *\n",
    "\n",
    "import fluorescence_util\n",
    "importlib.reload(fluorescence_util)\n",
    "from fluorescence_util import *\n"
   ]
  },
  {
   "cell_type": "code",
   "execution_count": null,
   "metadata": {},
   "outputs": [],
   "source": [
    "# 'board.xlsx'\n",
    "# 'board_noFlux.xlsx'\n",
    "# 'flux_20240925_184835.xlsx'\n",
    "# 'flux-onBoard.xlsx'\n",
    "# 'lead_noFlux.xlsx'\n",
    "\n",
    "srcbase = Path(\"./data/EEM_F-7000_2025-04-11/\")\n",
    "dstdir = Path(\"./dst/eem/filter\")\n",
    "\n",
    "srcdata = [\n",
    "    {\n",
    "        \"path\": fpath,\n",
    "        \"sample\": fpath.stem.split(\"_\")[0],  # 'ABS_20250411' → 'ABS'\n",
    "        \"label\": None\n",
    "    }\n",
    "    for fpath in srcbase.glob(\"*.xlsx\")\n",
    "]\n",
    "srcdata"
   ]
  },
  {
   "cell_type": "code",
   "execution_count": null,
   "metadata": {},
   "outputs": [],
   "source": [
    "for data in srcdata:\n",
    "    eem = fluorescence_util.EEMF7000(data.get('path'))\n",
    "    print(eem)\n",
    "\n",
    "    plt.figure()\n",
    "    eem.plot_contour(level=100, show_sample_name=True)"
   ]
  },
  {
   "cell_type": "code",
   "execution_count": null,
   "metadata": {},
   "outputs": [],
   "source": [
    "em_bands = eem.em_bands\n",
    "ex_bands = eem.ex_bands"
   ]
  },
  {
   "cell_type": "markdown",
   "metadata": {},
   "source": [
    "EEMの1次反射・n次散乱光除去のためのスニペット (クラスメソッドに実装済み)"
   ]
  },
  {
   "cell_type": "code",
   "execution_count": null,
   "metadata": {},
   "outputs": [],
   "source": [
    "verbose = True\n",
    "_df = copy.deepcopy(eem.eem_df)\n",
    "\n",
    "def find_nearest(array: np.array, value):\n",
    "    idx = (np.abs(array - value)).argmin()\n",
    "    # val = array[idx]\n",
    "    return int(idx)\n",
    "\n",
    "def is_out_of_range(value, array: np.array = eem.ex_bands, step=eem.ex_band_step, verbose=False):\n",
    "    if value+(step/2) < array.min():\n",
    "        if verbose: print(f\"{array.max()} < {value-(step/2)}\") \n",
    "        return True\n",
    "    elif array.max() < value-(step/2):\n",
    "        if verbose: print(f\"{array.max()} < {value-(step/2)}\")\n",
    "        return True\n",
    "    \n",
    "    return False\n",
    "\n",
    "def _calc_shift_band(wl_src, degree=1, shift:int=0, band_step=eem.em_band_step):\n",
    "    ''' eemのemissionの波長からexcitationの1次反射とn次散乱光の波長を計算する\n",
    "    FIXME 後でGPTに埋めさせる\n",
    "    :param wl_src: \n",
    "    :param degree:\n",
    "    :param shift:\n",
    "    :param band_step:\n",
    "\n",
    "    :returns: \n",
    "    '''\n",
    "    shifted_bands = wl_src * degree+(shift *band_step)\n",
    "\n",
    "    return shifted_bands\n",
    "\n",
    "def _elliminate_eem(eem_df, em, step, degree=1, bands_ex:np.array=eem.ex_bands, *, inplace=False, verbose=False):\n",
    "    '''EEMにおける1次反射と2次散乱光を `np.nan` で埋めて消去する。\n",
    "    FIXME 後でGPTに埋めさせる\n",
    "    '''\n",
    "    if not inplace:\n",
    "        eem_df = eem_df.copy()\n",
    "\n",
    "    wl_elim_ex = _calc_shift_band(em, shift= step, degree=degree)\n",
    "    out_of_range = is_out_of_range(wl_elim_ex, verbose=verbose) \n",
    "    if verbose: \n",
    "        print(f\"base={em} nm:/t({em}, {wl_elim_ex}), out-of-range={out_of_range}\")\n",
    "    idx_elim_ex = find_nearest(bands_ex, wl_elim_ex) # 最も近いexの波長を求める\n",
    "    wl_elim_ex = bands_ex[idx_elim_ex]\n",
    "    \n",
    "    # 最近傍だと範囲を大きく超えていても最大値に張り付く可能性があるので \n",
    "    # (600nmの2次光の1200nmでも800nmがexの最大値なので800nmが削除対象に含まれている可能性がある) \n",
    "    # 範囲外の波長を除外する\n",
    "\n",
    "    if em in eem.em_bands and wl_elim_ex in eem.ex_bands and not out_of_range:\n",
    "        eem_df.loc[em, wl_elim_ex] = np.nan\n",
    "\n",
    "    return eem_df\n",
    "\n",
    "def remove_self_reflection_and_scattering_from_eem(eem_df, em_bands=eem.em_bands, margin_steps=3, *, inplace=False, verbose=False):\n",
    "    if not inplace:\n",
    "        eem_df = eem_df.copy()\n",
    "\n",
    "    bands_targets = em_bands\n",
    "    for target_em in bands_targets:\n",
    "\n",
    "        for step in range(margin_steps):\n",
    "            # 1次反射\n",
    "            eem_df = _elliminate_eem(eem_df, em=target_em, step = -step, degree=1, inplace=inplace, verbose=verbose)\n",
    "            eem_df = _elliminate_eem(eem_df, em=target_em, step = +step, degree=1, inplace=inplace, verbose=verbose)\n",
    "            # 2次散乱\n",
    "            eem_df = _elliminate_eem(eem_df, em=target_em, step = -step, degree=2, inplace=inplace, verbose=verbose)\n",
    "            eem_df = _elliminate_eem(eem_df, em=target_em, step = +step, degree=2, inplace=inplace, verbose=verbose)\n",
    "            # 3次散乱\n",
    "            eem_df = _elliminate_eem(eem_df, em=target_em, step = -step, degree=3, inplace=inplace, verbose=verbose)\n",
    "            eem_df = _elliminate_eem(eem_df, em=target_em, step = +step, degree=3, inplace=inplace, verbose=verbose)\n",
    "\n",
    "    return eem_df\n"
   ]
  },
  {
   "cell_type": "code",
   "execution_count": null,
   "metadata": {},
   "outputs": [],
   "source": [
    "remove_self_reflection_and_scattering_from_eem(eem_df=_df, margin_steps=6, inplace=True)\n",
    "plt.imshow(_df[eem.ex_bands].values)\n",
    "# _df.values\n",
    "_df[eem.ex_bands]"
   ]
  },
  {
   "cell_type": "markdown",
   "metadata": {},
   "source": [
    "1次反射・n次散乱の除去 (クラスメソッドを使用)"
   ]
  },
  {
   "cell_type": "code",
   "execution_count": null,
   "metadata": {},
   "outputs": [],
   "source": [
    "eem.remove_self_reflection_and_scattering_from_eem(margin_steps=6, inplace=True, )\n",
    "eem.plot_heatmap()\n",
    "plt.title(eem.sample)"
   ]
  },
  {
   "cell_type": "code",
   "execution_count": null,
   "metadata": {},
   "outputs": [],
   "source": [
    "for data in srcdata:\n",
    "    eem = fluorescence_util.EEMF7000(data.get('path'))\n",
    "    print(eem)\n",
    "\n",
    "    plt.figure()\n",
    "    # eem.plot_contour(level=100, show_sample_name=True)\n",
    "\n",
    "    eem.remove_self_reflection_and_scattering_from_eem(margin_steps=6, inplace=True, )\n",
    "    eem.plot_heatmap()\n",
    "\n",
    "    plt.title(eem.sample)\n",
    "\n"
   ]
  },
  {
   "cell_type": "code",
   "execution_count": null,
   "metadata": {},
   "outputs": [],
   "source": [
    "sample_data = []\n",
    "\n",
    "for data in srcdata:\n",
    "    eem = fluorescence_util.EEMF7000(data.get('path'))\n",
    "    print(eem)\n",
    "\n",
    "    # plt.figure()\n",
    "    # eem.plot_contour(level=100, show_sample_name=True)\n",
    "\n",
    "    eem.remove_self_reflection_and_scattering_from_eem(margin_steps=6, inplace=True, )\n",
    "    \n",
    "    eem_matrix = eem.mat\n",
    "    # eem_df = eem.eem_df\n",
    "    \n",
    "    # サンプルごとにnumpy配列に追加\n",
    "    sample_data.append(eem_matrix)\n",
    "\n",
    "    print(eem_matrix)\n",
    "\n",
    "# numpy配列に保存\n",
    "eem_array = np.array(sample_data)\n",
    "\n",
    "# [放射波長，励起波長，9種類]の形で保存\n",
    "np.save('eem_data.npy', eem_array)\n",
    "\n",
    "# 形状確認\n",
    "print(f'EEM data shape: {eem_array.shape}')"
   ]
  },
  {
   "cell_type": "markdown",
   "metadata": {},
   "source": [
    "---"
   ]
  },
  {
   "cell_type": "markdown",
   "metadata": {},
   "source": [
    "# LED SPD"
   ]
  },
  {
   "cell_type": "code",
   "execution_count": null,
   "metadata": {},
   "outputs": [],
   "source": [
    "_param_set = '200to600nm_narrow'\n",
    "# _param_set = '200to600nm_wide'\n",
    "_params = {\n",
    "    '200to600nm_narrow':{'wl_start': 200, 'wl_end': 600, 'band_steps': 10, 'band_resolution': 5, 'wl_FWHM': 20},\n",
    "    '200to600nm_wide':  {'wl_start': 200, 'wl_end': 600, 'band_steps': 10, 'band_resolution': 1, 'wl_FWHM': 40},\n",
    "    }\n",
    "param = _params[_param_set]\n",
    "\n",
    "_wl_bands = np.arange(param['wl_start'], param['wl_end'], param['band_steps'])\n",
    "_df = pd.DataFrame({'wavelength':_wl_bands, })\n",
    "_df.loc[:,_wl_bands] = 0\n",
    "\n",
    "for wl in _wl_bands:\n",
    "    _df.loc[_df.loc[:,'wavelength']==wl,wl] = 1\n",
    "\n",
    "wl_sensor = _wl_bands\n"
   ]
  },
  {
   "cell_type": "code",
   "execution_count": null,
   "metadata": {},
   "outputs": [],
   "source": [
    "wl_FWHM = param['wl_FWHM']\n",
    "var_FEHM = pow(wl_FWHM/2.35, 2)\n",
    "f\"σ={var_FEHM}, for {wl_FWHM} nm of FWHM\""
   ]
  },
  {
   "cell_type": "code",
   "execution_count": null,
   "metadata": {},
   "outputs": [],
   "source": [
    "wl_start = param['wl_start']\n",
    "wl_end = param['wl_end']\n",
    "wl_res = param.get('band_resolution',5)\n",
    "wl = np.array(range(wl_start, wl_end+1, wl_res))\n",
    "wl_width = wl_end - wl_start\n",
    "wl_bandstep = param['band_steps']\n",
    "# wl_peeks = np.array(\n",
    "#     range(wl_start+round(wl_bandstep/2), wl_end+1, wl_bandstep))\n",
    "wl_peeks = np.array(range(wl_start, wl_end+1, wl_bandstep))\n",
    "print(\"Range: {0}--{1}, \".format(wl_peeks[0],\n",
    "      wl_peeks[-1]), \"Band steps: {}\".format(wl_bandstep))\n",
    "\n",
    "label_wl = '{0}to{1}nm'.format(wl_start, wl_end, )\n",
    "\n",
    "print(np.array(wl_peeks))\n",
    "print('# of LEDs: {}'.format(len(wl_peeks)))\n"
   ]
  },
  {
   "cell_type": "markdown",
   "metadata": {},
   "source": [
    "## Make SPD"
   ]
  },
  {
   "cell_type": "code",
   "execution_count": null,
   "metadata": {},
   "outputs": [],
   "source": [
    "spds_fill_ = np.array([\n",
    "    np.exp(-pow(wl - wl_peek_, 2) / var_FEHM)\n",
    "    for wl_peek_ in wl_peeks\n",
    "    ])\n",
    "spds_fill = spds_fill_.T\n",
    "spds_fill.shape"
   ]
  },
  {
   "cell_type": "code",
   "execution_count": null,
   "metadata": {},
   "outputs": [],
   "source": [
    "fig = plt.figure(1)\n",
    "ax = fig.add_subplot(1, 1, 1)\n",
    "plt.plot(\n",
    "    wl, spds_fill, label=[\n",
    "    'SPDs'if i == 0 else '_nolegend_' for i in range(spds_fill.shape[1])])\n",
    "plt.xlim([wl[0], wl[-1]])\n",
    "plt.ylim([0, plt.ylim()[1]])\n",
    "plt.xlabel('Wavelength [nm]')\n",
    "plt.ylabel('Relative Power')\n",
    "plt.grid(True)\n",
    "plt.legend(bbox_to_anchor=(1.0, 1.15))\n"
   ]
  },
  {
   "cell_type": "code",
   "execution_count": null,
   "metadata": {},
   "outputs": [],
   "source": [
    "fig = plt.figure(1)\n",
    "ax = fig.add_subplot(1, 1, 1)\n",
    "plt.plot(\n",
    "    wl, spds_fill[:,7], label=[\n",
    "    'SPDs'if i == 0 else '_nolegend_' for i in [7,]])\n",
    "# plt.xlim([wl[0], wl[-1]])\n",
    "plt.xlim([250, 300])\n",
    "plt.ylim([0, plt.ylim()[1]])\n",
    "plt.xlabel('Wavelength [nm]')\n",
    "plt.ylabel('Relative Power')\n",
    "plt.grid(True)\n",
    "plt.legend(bbox_to_anchor=(1.0, 1.15))\n",
    "\n",
    "spds_fill.shape\n"
   ]
  },
  {
   "cell_type": "markdown",
   "metadata": {},
   "source": [
    "----"
   ]
  },
  {
   "cell_type": "markdown",
   "metadata": {},
   "source": [
    "# EEM × LED"
   ]
  },
  {
   "cell_type": "code",
   "execution_count": null,
   "metadata": {},
   "outputs": [],
   "source": [
    "print(eem_array.shape)  # (10, 81, 81) = (サンプル数（MP），励起，放射)\n",
    "print(spds_fill.shape)  # (81, 41) = (光強度（各励起波長），LEDの数)\n",
    "\n",
    "# shapes: (10, 81, 81) @ (81, 41) → (10, 41, 81)\n",
    "eem_array_clean = np.nan_to_num(eem_array)\n",
    "fluorescence = np.einsum('sem,el->slm', eem_array_clean, spds_fill)\n",
    "\n",
    "\n",
    "fluorescence.shape\n",
    "\n",
    "# eem_array\n",
    "# fluorescence"
   ]
  },
  {
   "cell_type": "code",
   "execution_count": null,
   "metadata": {},
   "outputs": [],
   "source": [
    "import numpy as np\n",
    "import matplotlib.pyplot as plt\n",
    "\n",
    "sample_names = []\n",
    "for data in srcdata:\n",
    "    eem = fluorescence_util.EEMF7000(data.get('path'))\n",
    "    sample_names.append(eem.sample)  # ここでサンプル名を保存\n",
    "\n",
    "# === 例：LEDの励起波長（列方向） ===\n",
    "ex_wavelengths = np.linspace(200, 600, spds_fill.shape[0])  # shape: (81,)\n",
    "led_peak_wavelengths = ex_wavelengths[np.argmax(spds_fill, axis=0)]  # 各LEDのピーク波長を取得（長さ num_leds）\n",
    "\n",
    "# === 入力：表示したいサンプル番号とピーク波長 ===\n",
    "sample_name = 'PET'  # 任意の名前を指定\n",
    "sample_idx = sample_names.index(sample_name)\n",
    "\n",
    "desired_peak_wavelength = 330  \n",
    "\n",
    "# === ピーク波長が最も近いLEDを選ぶ ===\n",
    "led_idx = np.argmin(np.abs(led_peak_wavelengths - desired_peak_wavelength))\n",
    "print(f\"Selected LED {led_idx} with peak wavelength {led_peak_wavelengths[led_idx]:.1f} nm\")\n",
    "\n",
    "# === 放射波長（em） ===\n",
    "em_wavelengths = np.linspace(200, 600, fluorescence.shape[2])  # shape: (81,)\n",
    "\n",
    "# === 蛍光スペクトルとLEDのSPDをプロット ===\n",
    "plt.figure(figsize=(10, 5))\n",
    "\n",
    "# 蛍光スペクトル\n",
    "plt.plot(em_wavelengths, fluorescence[sample_idx, led_idx], label=f'Fluorescence (Sample {sample_name})')\n",
    "plt.xlabel('Emission Wavelength [nm]')\n",
    "plt.ylabel('Fluorescence Intensity')\n",
    "plt.grid(True)\n",
    "plt.legend(loc='upper left')\n",
    "\n",
    "# 同じ図に励起SPDを重ねる\n",
    "ax2 = plt.gca().twinx()\n",
    "ax2.plot(ex_wavelengths, spds_fill[:, led_idx], 'r--', alpha=0.5, label=f'LED SPD (Peak {led_peak_wavelengths[led_idx]:.1f} nm)')\n",
    "ax2.set_ylabel('LED Excitation SPD')\n",
    "ax2.legend(loc='upper right')\n",
    "\n",
    "plt.title(f'Sample {sample_name}, LED with Peak {led_peak_wavelengths[led_idx]:.1f} nm')\n",
    "plt.tight_layout()\n",
    "\n",
    "# plt.xlim(310, 380)\n",
    "plt.show()\n"
   ]
  },
  {
   "cell_type": "code",
   "execution_count": null,
   "metadata": {},
   "outputs": [],
   "source": [
    "# 蛍光成分以外がnanで保存されているか\n",
    "eem_arrasample_idx = 0\n",
    "eem_matrix = eem_array[sample_idx]  # shape: (ex, em) = (81, 81)\n",
    "\n",
    "plt.figure(figsize=(6, 5))\n",
    "plt.imshow(eem_matrix, origin='lower', cmap='jet', aspect='auto')\n",
    "plt.colorbar(label='Intensity')\n",
    "plt.title(f'EEM Matrix for Sample {sample_names[sample_idx]} (before NaN to 0)')\n",
    "plt.xlabel('Excitation index')\n",
    "plt.ylabel('Emission index')\n",
    "plt.plot(np.arange(81), np.arange(81), 'w--')  # 対角線（自己波長）を強調\n",
    "plt.show()"
   ]
  },
  {
   "cell_type": "code",
   "execution_count": null,
   "metadata": {},
   "outputs": [],
   "source": [
    "# 励起波長（デルタ関数，理想的なナローバンド）ごとの放射波長plot \n",
    "import numpy as np\n",
    "import matplotlib.pyplot as plt\n",
    "\n",
    "# 波長軸\n",
    "ex_wavelengths = np.linspace(200, 600, eem_array.shape[1])\n",
    "em_wavelengths = np.linspace(200, 600, eem_array.shape[2])\n",
    "\n",
    "# 指定：サンプル名と励起波長のリスト\n",
    "sample_name = \"PET\"\n",
    "desired_ex_wavelengths = [310\n",
    "                          , 320\n",
    "                          , 330\n",
    "                          , 340\n",
    "                          , 350\n",
    "                          ]  # 任意の励起波長（複数）\n",
    "\n",
    "# インデックス変換\n",
    "sample_idx = sample_names.index(sample_name)\n",
    "ex_indices = [np.argmin(np.abs(ex_wavelengths - wl)) for wl in desired_ex_wavelengths]\n",
    "\n",
    "# プロット\n",
    "plt.figure(figsize=(10, 5))\n",
    "for i, ex_idx in enumerate(ex_indices):\n",
    "    em_spectrum = eem_array_clean[sample_idx, ex_idx, :]\n",
    "    plt.plot(em_wavelengths, em_spectrum, label=f'Ex={ex_wavelengths[ex_idx]:.1f} nm')\n",
    "\n",
    "plt.xlabel('Emission Wavelength [nm]')\n",
    "plt.ylabel('Fluorescence Intensity')\n",
    "plt.title(f'Sample: {sample_name} - Fluorescence for Various Excitations')\n",
    "plt.grid(True)\n",
    "plt.legend()\n",
    "plt.tight_layout()\n",
    "plt.show()\n"
   ]
  },
  {
   "cell_type": "code",
   "execution_count": null,
   "metadata": {},
   "outputs": [],
   "source": []
  }
 ],
 "metadata": {
  "kernelspec": {
   "display_name": ".venv",
   "language": "python",
   "name": "python3"
  },
  "language_info": {
   "codemirror_mode": {
    "name": "ipython",
    "version": 3
   },
   "file_extension": ".py",
   "mimetype": "text/x-python",
   "name": "python",
   "nbconvert_exporter": "python",
   "pygments_lexer": "ipython3",
   "version": "3.12.3"
  }
 },
 "nbformat": 4,
 "nbformat_minor": 2
}
