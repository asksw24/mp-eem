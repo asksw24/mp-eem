{
 "cells": [
  {
   "attachments": {},
   "cell_type": "markdown",
   "metadata": {},
   "source": [
    "# Generate computational SPDs\n",
    "(This code is from Jupyter Notebook, please check `.ipnb` file if modify it.)"
   ]
  },
  {
   "cell_type": "code",
   "execution_count": null,
   "metadata": {},
   "outputs": [],
   "source": [
    "import numpy as np\n",
    "import scipy\n",
    "from scipy import interpolate\n",
    "import pandas as pd\n",
    "import matplotlib.pyplot as plt\n",
    "import os\n",
    "from spectral_util import interp_spd\n",
    "\n",
    "import colour\n",
    "from colour.utilities import numpy_print_options\n",
    "from colour.temperature import CCT_to_xy_CIE_D\n",
    "from PIL import Image\n",
    "\n",
    "import pickle\n",
    "import pdb"
   ]
  },
  {
   "cell_type": "code",
   "execution_count": null,
   "metadata": {},
   "outputs": [],
   "source": [
    "def get_d65spd():\n",
    "    CCT_D65 = 6500 * 1.4388 / 1.4380\n",
    "    xy = CCT_to_xy_CIE_D(CCT_D65)\n",
    "    with numpy_print_options(suppress=True):\n",
    "        spd_d65 = colour.sd_CIE_illuminant_D_series(xy)\n",
    "    return spd_d65\n"
   ]
  },
  {
   "cell_type": "code",
   "execution_count": null,
   "metadata": {},
   "outputs": [],
   "source": [
    "def approx_bySublights(spd_target, spds_sub):\n",
    "    spd_inv = np.linalg.pinv(spds_sub)\n",
    "    x = np.dot(spd_inv, spd_target)\n",
    "    spd_approx = np.dot(spds_sub, x)\n",
    "    return spd_approx, x"
   ]
  },
  {
   "attachments": {},
   "cell_type": "markdown",
   "metadata": {},
   "source": [
    "# Specification"
   ]
  },
  {
   "cell_type": "code",
   "execution_count": null,
   "metadata": {},
   "outputs": [],
   "source": [
    "_param_set = '200to600nm_narrow'\n",
    "# _param_set = '200to600nm_wide'\n",
    "_params = {\n",
    "    '200to600nm_narrow':{'wl_start': 200, 'wl_end': 600, 'band_steps': 10, 'band_resolution': 1, 'wl_FWHM': 20},\n",
    "    '200to600nm_wide':  {'wl_start': 200, 'wl_end': 600, 'band_steps': 10, 'band_resolution': 1, 'wl_FWHM': 40},\n",
    "    }\n",
    "param = _params[_param_set]\n",
    "\n",
    "_wl_bands = np.arange(param['wl_start'], param['wl_end'], param['band_steps'])\n",
    "_df = pd.DataFrame({'wavelength':_wl_bands, })\n",
    "_df.loc[:,_wl_bands] = 0\n",
    "\n",
    "for wl in _wl_bands:\n",
    "    _df.loc[_df.loc[:,'wavelength']==wl,wl] = 1\n",
    "\n",
    "wl_sensor = _wl_bands\n"
   ]
  },
  {
   "attachments": {},
   "cell_type": "markdown",
   "metadata": {},
   "source": [
    "## FWHM\n",
    "FWHM (半値幅): "
   ]
  },
  {
   "attachments": {},
   "cell_type": "markdown",
   "metadata": {},
   "source": [
    "$$\n",
    "\\begin{aligned}\n",
    "\n",
    "\\lambda_{\\mathrm{FWHM}}  \\ &{\\sim}\\   2\\sigma\\sqrt{2\\ln{2}}\n",
    "\\\\\n",
    "\\sigma \n",
    "\\ &{\\sim}\\ \n",
    "\\frac{ \\lambda_\\mathrm{FWHM}}{ (2\\sqrt{2\\ln{2}}) }\n",
    "\\\\\n",
    "\\sigma\n",
    "\\ &{\\sim}\\ \n",
    "\\frac{\\lambda_\\mathrm{FWHM}}{2.35}\n",
    "\n",
    "\\end{aligned}\n",
    "$$\n"
   ]
  },
  {
   "cell_type": "code",
   "execution_count": null,
   "metadata": {},
   "outputs": [],
   "source": [
    "wl_FWHM = param['wl_FWHM']\n",
    "var_FEHM = pow(wl_FWHM/2.35, 2)\n",
    "f\"σ={var_FEHM}, for {wl_FWHM} nm of FWHM\""
   ]
  },
  {
   "attachments": {},
   "cell_type": "markdown",
   "metadata": {},
   "source": [
    "## Peek\n",
    "e.g.  \n",
    "- Range: $450\\text{--}950 \\ \\mathrm{nm}$ (or $400\\text{--}1000 \\ \\mathrm{nm}$)  \n",
    "- ${\\lambda}_\\mathrm{peek} = 460\\text{--}940 \\ \\mathrm{nm}$ with $20 \\ \\mathrm{nm}$ (or $410\\text{--}990 \\ \\mathrm{nm}$ with $20 \\ \\mathrm{nm}$) band steps.\n"
   ]
  },
  {
   "cell_type": "code",
   "execution_count": null,
   "metadata": {},
   "outputs": [],
   "source": [
    "wl_start = param['wl_start']\n",
    "wl_end = param['wl_end']\n",
    "wl_res = param.get('band_resolution',5)\n",
    "wl = np.array(range(wl_start, wl_end+1, wl_res))\n",
    "wl_width = wl_end - wl_start\n",
    "wl_bandstep = param['band_steps']\n",
    "# wl_peeks = np.array(\n",
    "#     range(wl_start+round(wl_bandstep/2), wl_end+1, wl_bandstep))\n",
    "wl_peeks = np.array(range(wl_start, wl_end+1, wl_bandstep))\n",
    "print(\"Range: {0}--{1}, \".format(wl_peeks[0],\n",
    "      wl_peeks[-1]), \"Band steps: {}\".format(wl_bandstep))\n",
    "\n",
    "label_wl = '{0}to{1}nm'.format(wl_start, wl_end, )\n"
   ]
  },
  {
   "cell_type": "code",
   "execution_count": null,
   "metadata": {},
   "outputs": [],
   "source": [
    "print(np.array(wl_peeks))\n",
    "print('# of LEDs: {}'.format(len(wl_peeks)))"
   ]
  },
  {
   "attachments": {},
   "cell_type": "markdown",
   "metadata": {},
   "source": [
    "# Make SPDs"
   ]
  },
  {
   "cell_type": "code",
   "execution_count": null,
   "metadata": {},
   "outputs": [],
   "source": [
    "spds_fill_ = np.array([\n",
    "    np.exp(-pow(wl - wl_peek_, 2) / var_FEHM)\n",
    "    for wl_peek_ in wl_peeks\n",
    "    ])\n",
    "spds_fill = spds_fill_.T\n",
    "spds_fill.shape"
   ]
  },
  {
   "cell_type": "code",
   "execution_count": null,
   "metadata": {},
   "outputs": [],
   "source": [
    "fig = plt.figure(1)\n",
    "ax = fig.add_subplot(1, 1, 1)\n",
    "plt.plot(\n",
    "    wl, spds_fill, label=[\n",
    "    'SPDs'if i == 0 else '_nolegend_' for i in range(spds_fill.shape[1])])\n",
    "plt.xlim([wl[0], wl[-1]])\n",
    "plt.ylim([0, plt.ylim()[1]])\n",
    "plt.xlabel('Wavelength [nm]')\n",
    "plt.ylabel('Relative Power')\n",
    "plt.grid(True)\n",
    "plt.legend(bbox_to_anchor=(1.0, 1.15))\n"
   ]
  },
  {
   "cell_type": "code",
   "execution_count": null,
   "metadata": {},
   "outputs": [],
   "source": [
    "fig = plt.figure(1)\n",
    "ax = fig.add_subplot(1, 1, 1)\n",
    "plt.plot(\n",
    "    wl, spds_fill[:,7], label=[\n",
    "    'SPDs'if i == 0 else '_nolegend_' for i in [7,]])\n",
    "# plt.xlim([wl[0], wl[-1]])\n",
    "plt.xlim([250, 300])\n",
    "plt.ylim([0, plt.ylim()[1]])\n",
    "plt.xlabel('Wavelength [nm]')\n",
    "plt.ylabel('Relative Power')\n",
    "plt.grid(True)\n",
    "plt.legend(bbox_to_anchor=(1.0, 1.15))\n"
   ]
  }
 ],
 "metadata": {
  "kernelspec": {
   "display_name": "Python 3",
   "language": "python",
   "name": "python3"
  },
  "language_info": {
   "codemirror_mode": {
    "name": "ipython",
    "version": 3
   },
   "file_extension": ".py",
   "mimetype": "text/x-python",
   "name": "python",
   "nbconvert_exporter": "python",
   "pygments_lexer": "ipython3",
   "version": "3.12.3"
  },
  "orig_nbformat": 4
 },
 "nbformat": 4,
 "nbformat_minor": 2
}
