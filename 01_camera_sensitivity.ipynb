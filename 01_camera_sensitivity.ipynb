{
 "cells": [
  {
   "cell_type": "markdown",
   "metadata": {},
   "source": [
    "# Make Camera Spectral Sensitivity"
   ]
  },
  {
   "cell_type": "code",
   "execution_count": null,
   "metadata": {},
   "outputs": [],
   "source": [
    "import numpy as np\n",
    "import matplotlib.pyplot as plt\n",
    "\n",
    "# パラメータ設定\n",
    "wl_start = 200  # nm\n",
    "wl_end = 1000   # nm\n",
    "wl_step = 1     # 分解能\n",
    "wavelengths = np.arange(wl_start, wl_end + 1, wl_step)\n",
    "\n",
    "# チャネルごとの設定\n",
    "channels = [\n",
    "    {\"peak\": 500, \"fwhm\": 380, \"max_val\": 1.0},\n",
    "    {\"peak\": 230, \"fwhm\": 40, \"max_val\": 0.3}\n",
    "]\n",
    "\n",
    "# 感度行列（列ごとにチャネル）\n",
    "sensitivity_all = []\n",
    "\n",
    "for ch in channels:\n",
    "    sigma = ch[\"fwhm\"] / 2.355\n",
    "    sensitivity = np.exp(-0.5 * ((wavelengths - ch[\"peak\"]) / sigma) ** 2)\n",
    "    sensitivity /= np.max(sensitivity)\n",
    "    sensitivity *= ch[\"max_val\"]\n",
    "    sensitivity_all.append(sensitivity)\n",
    "\n",
    "# スタック（shape: (len(wl), 2)）\n",
    "sensitivity_all = np.stack(sensitivity_all, axis=1)\n",
    "\n",
    "# 合成：単純加算 → 正規化\n",
    "combined_sensitivity = np.sum(sensitivity_all, axis=1)\n",
    "combined_sensitivity /= np.max(combined_sensitivity)\n",
    "\n",
    "# 描画\n",
    "plt.figure(figsize=(8, 5))\n",
    "plt.plot(wavelengths, sensitivity_all[:, 0], label='Channel 1 (500nm peak)', linestyle='--')\n",
    "plt.plot(wavelengths, sensitivity_all[:, 1], label='Channel 2 (250nm peak)', linestyle='--')\n",
    "plt.plot(wavelengths, combined_sensitivity, label='Combined Sensitivity', color='black', linewidth=2)\n",
    "plt.title('Combined Spectral Sensitivity')\n",
    "plt.xlabel('Wavelength [nm]')\n",
    "plt.ylabel('Relative Sensitivity')\n",
    "plt.grid(True)\n",
    "plt.legend()\n",
    "plt.xlim(wl_start, wl_end)\n",
    "plt.ylim(0, 1.05)\n",
    "plt.show()\n"
   ]
  }
 ],
 "metadata": {
  "kernelspec": {
   "display_name": ".venv",
   "language": "python",
   "name": "python3"
  },
  "language_info": {
   "codemirror_mode": {
    "name": "ipython",
    "version": 3
   },
   "file_extension": ".py",
   "mimetype": "text/x-python",
   "name": "python",
   "nbconvert_exporter": "python",
   "pygments_lexer": "ipython3",
   "version": "3.12.3"
  },
  "orig_nbformat": 4
 },
 "nbformat": 4,
 "nbformat_minor": 2
}
