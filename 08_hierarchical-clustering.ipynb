{
 "cells": [
  {
   "cell_type": "markdown",
   "id": "7f846ea7",
   "metadata": {},
   "source": [
    "# 平均スペクトルの計算"
   ]
  },
  {
   "cell_type": "code",
   "execution_count": null,
   "id": "0940ff57",
   "metadata": {
    "vscode": {
     "languageId": "plaintext"
    }
   },
   "outputs": [],
   "source": []
  },
  {
   "cell_type": "markdown",
   "id": "b9aaa0f6",
   "metadata": {},
   "source": [
    "---"
   ]
  },
  {
   "cell_type": "markdown",
   "id": "019b6eda",
   "metadata": {},
   "source": [
    "# コサイン類似度行列の作成"
   ]
  },
  {
   "cell_type": "code",
   "execution_count": null,
   "id": "a4760433",
   "metadata": {
    "vscode": {
     "languageId": "plaintext"
    }
   },
   "outputs": [],
   "source": []
  },
  {
   "cell_type": "markdown",
   "id": "7d79eb47",
   "metadata": {},
   "source": [
    "----"
   ]
  },
  {
   "cell_type": "markdown",
   "id": "24c11081",
   "metadata": {},
   "source": [
    "# 階層型クラスタリングの実行"
   ]
  },
  {
   "cell_type": "code",
   "execution_count": null,
   "id": "94e6a171",
   "metadata": {
    "vscode": {
     "languageId": "plaintext"
    }
   },
   "outputs": [],
   "source": []
  },
  {
   "cell_type": "markdown",
   "id": "cd99b66a",
   "metadata": {},
   "source": [
    "---"
   ]
  },
  {
   "cell_type": "markdown",
   "id": "ccfa33b5",
   "metadata": {},
   "source": [
    "# デンドログラムの可視化"
   ]
  },
  {
   "cell_type": "code",
   "execution_count": null,
   "id": "8f0e0fe6",
   "metadata": {
    "vscode": {
     "languageId": "plaintext"
    }
   },
   "outputs": [],
   "source": []
  },
  {
   "cell_type": "markdown",
   "id": "eb054ca6",
   "metadata": {},
   "source": [
    "---"
   ]
  }
 ],
 "metadata": {
  "language_info": {
   "name": "python"
  }
 },
 "nbformat": 4,
 "nbformat_minor": 5
}
